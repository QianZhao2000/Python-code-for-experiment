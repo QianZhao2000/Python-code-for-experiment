{
 "cells": [
  {
   "cell_type": "code",
   "execution_count": 1,
   "metadata": {},
   "outputs": [],
   "source": [
    "import pandas as pd"
   ]
  },
  {
   "cell_type": "code",
   "execution_count": 3,
   "metadata": {},
   "outputs": [
    {
     "ename": "AttributeError",
     "evalue": "'Graph' object has no attribute '_node'",
     "output_type": "error",
     "traceback": [
      "\u001b[1;31m---------------------------------------------------------------------------\u001b[0m",
      "\u001b[1;31mAttributeError\u001b[0m                            Traceback (most recent call last)",
      "\u001b[1;32mUntitled-1.ipynb Cell 2\u001b[0m line \u001b[0;36m<cell line: 2>\u001b[1;34m()\u001b[0m\n\u001b[0;32m      <a href='vscode-notebook-cell:Untitled-1.ipynb?jupyter-notebook#W1sdW50aXRsZWQ%3D?line=0'>1</a>\u001b[0m df \u001b[39m=\u001b[39m pd\u001b[39m.\u001b[39mread_pickle(\u001b[39m'\u001b[39m\u001b[39m./graphs/encode-sim-graph-pfizer-1_2_3_4_5-798-2-false-poly-dice-minhash-0.200-bf-rh-15-500-clk-none.pickle\u001b[39m\u001b[39m'\u001b[39m)\n\u001b[1;32m----> <a href='vscode-notebook-cell:Untitled-1.ipynb?jupyter-notebook#W1sdW50aXRsZWQ%3D?line=1'>2</a>\u001b[0m \u001b[39mprint\u001b[39;49m(df)\n",
      "File \u001b[1;32mc:\\Users\\10344\\anaconda3\\lib\\site-packages\\networkx\\classes\\graph.py:394\u001b[0m, in \u001b[0;36mGraph.__str__\u001b[1;34m(self)\u001b[0m\n\u001b[0;32m    371\u001b[0m \u001b[39mdef\u001b[39;00m \u001b[39m__str__\u001b[39m(\u001b[39mself\u001b[39m):\n\u001b[0;32m    372\u001b[0m     \u001b[39m\"\"\"Returns a short summary of the graph.\u001b[39;00m\n\u001b[0;32m    373\u001b[0m \n\u001b[0;32m    374\u001b[0m \u001b[39m    Returns\u001b[39;00m\n\u001b[1;32m   (...)\u001b[0m\n\u001b[0;32m    388\u001b[0m \n\u001b[0;32m    389\u001b[0m \u001b[39m    \"\"\"\u001b[39;00m\n\u001b[0;32m    390\u001b[0m     \u001b[39mreturn\u001b[39;00m \u001b[39m\"\u001b[39m\u001b[39m\"\u001b[39m\u001b[39m.\u001b[39mjoin(\n\u001b[0;32m    391\u001b[0m         [\n\u001b[0;32m    392\u001b[0m             \u001b[39mtype\u001b[39m(\u001b[39mself\u001b[39m)\u001b[39m.\u001b[39m\u001b[39m__name__\u001b[39m,\n\u001b[0;32m    393\u001b[0m             \u001b[39mf\u001b[39m\u001b[39m\"\u001b[39m\u001b[39m named \u001b[39m\u001b[39m{\u001b[39;00m\u001b[39mself\u001b[39m\u001b[39m.\u001b[39mname\u001b[39m!r}\u001b[39;00m\u001b[39m\"\u001b[39m \u001b[39mif\u001b[39;00m \u001b[39mself\u001b[39m\u001b[39m.\u001b[39mname \u001b[39melse\u001b[39;00m \u001b[39m\"\u001b[39m\u001b[39m\"\u001b[39m,\n\u001b[1;32m--> 394\u001b[0m             \u001b[39mf\u001b[39m\u001b[39m\"\u001b[39m\u001b[39m with \u001b[39m\u001b[39m{\u001b[39;00m\u001b[39mself\u001b[39m\u001b[39m.\u001b[39mnumber_of_nodes()\u001b[39m}\u001b[39;00m\u001b[39m nodes and \u001b[39m\u001b[39m{\u001b[39;00m\u001b[39mself\u001b[39m\u001b[39m.\u001b[39mnumber_of_edges()\u001b[39m}\u001b[39;00m\u001b[39m edges\u001b[39m\u001b[39m\"\u001b[39m,\n\u001b[0;32m    395\u001b[0m         ]\n\u001b[0;32m    396\u001b[0m     )\n",
      "File \u001b[1;32mc:\\Users\\10344\\anaconda3\\lib\\site-packages\\networkx\\classes\\graph.py:778\u001b[0m, in \u001b[0;36mGraph.number_of_nodes\u001b[1;34m(self)\u001b[0m\n\u001b[0;32m    759\u001b[0m \u001b[39mdef\u001b[39;00m \u001b[39mnumber_of_nodes\u001b[39m(\u001b[39mself\u001b[39m):\n\u001b[0;32m    760\u001b[0m     \u001b[39m\"\"\"Returns the number of nodes in the graph.\u001b[39;00m\n\u001b[0;32m    761\u001b[0m \n\u001b[0;32m    762\u001b[0m \u001b[39m    Returns\u001b[39;00m\n\u001b[1;32m   (...)\u001b[0m\n\u001b[0;32m    776\u001b[0m \u001b[39m    3\u001b[39;00m\n\u001b[0;32m    777\u001b[0m \u001b[39m    \"\"\"\u001b[39;00m\n\u001b[1;32m--> 778\u001b[0m     \u001b[39mreturn\u001b[39;00m \u001b[39mlen\u001b[39m(\u001b[39mself\u001b[39;49m\u001b[39m.\u001b[39;49m_node)\n",
      "\u001b[1;31mAttributeError\u001b[0m: 'Graph' object has no attribute '_node'"
     ]
    }
   ],
   "source": [
    "df = pd.read_pickle('./graphs/encode-sim-graph-pfizer-1_2_3_4_5-798-2-false-poly-dice-minhash-0.200-bf-rh-15-500-clk-none.pickle')\n",
    "print(df)"
   ]
  },
  {
   "cell_type": "code",
   "execution_count": 4,
   "metadata": {},
   "outputs": [],
   "source": [
    "import pickle\n",
    "import pprint\n",
    "\n",
    "obj = pickle.load(open(\"./graphs/encode-sim-graph-pfizer-1_2_3_4_5-798-2-false-poly-dice-minhash-0.200-bf-rh-15-500-clk-none.pickle\", \"rb\"))\n",
    "\n",
    "with open(\"out.txt\", \"a\") as f:\n",
    "     pprint.pprint(obj, stream=f)"
   ]
  },
  {
   "cell_type": "code",
   "execution_count": 8,
   "metadata": {},
   "outputs": [],
   "source": [
    "import pickle\n",
    "import pprint\n",
    "\n",
    "obj = pickle.load(open(\"./graphs/plain-sim-graph-pfizer-1_2_3_4_5-798-2-false-poly-dice-minhash-0.200-bf-rh-15-500-clk-none.pickle\", \"rb\"))\n",
    "\n",
    "with open(\"out.jpg\", \"a\") as f:\n",
    "     pprint.pprint(obj, stream=f)"
   ]
  },
  {
   "cell_type": "code",
   "execution_count": null,
   "metadata": {},
   "outputs": [],
   "source": []
  },
  {
   "cell_type": "code",
   "execution_count": 6,
   "metadata": {},
   "outputs": [],
   "source": [
    "objects = []\n",
    "with (open(\"./graphs/encode-sim-graph-pfizer-1_2_3_4_5-798-2-false-poly-dice-minhash-0.200-bf-rh-15-500-clk-none.pickle\", \"rb\")) as openfile:\n",
    "    while True:\n",
    "        try:\n",
    "            objects.append(pickle.load(openfile))\n",
    "        except EOFError:\n",
    "            break"
   ]
  },
  {
   "cell_type": "code",
   "execution_count": 7,
   "metadata": {},
   "outputs": [
    {
     "data": {
      "text/plain": [
       "[<networkx.classes.graph.Graph at 0x1de42781fa0>]"
      ]
     },
     "execution_count": 7,
     "metadata": {},
     "output_type": "execute_result"
    }
   ],
   "source": [
    "objects"
   ]
  },
  {
   "cell_type": "code",
   "execution_count": null,
   "metadata": {},
   "outputs": [],
   "source": []
  },
  {
   "cell_type": "code",
   "execution_count": 1,
   "metadata": {},
   "outputs": [
    {
     "data": {
      "text/plain": [
       "<networkx.classes.graph.Graph at 0x18f7d079dc0>"
      ]
     },
     "execution_count": 1,
     "metadata": {},
     "output_type": "execute_result"
    }
   ],
   "source": [
    "import networkx\n",
    "networkx.read_gpickle('./graphs/encode-sim-graph-pfizer-1_2_3_4_5-798-2-false-poly-dice-minhash-0.200-bf-rh-15-500-clk-none.pickle')"
   ]
  },
  {
   "cell_type": "code",
   "execution_count": 11,
   "metadata": {},
   "outputs": [
    {
     "data": {
      "text/plain": [
       "'2.7.1'"
      ]
     },
     "execution_count": 11,
     "metadata": {},
     "output_type": "execute_result"
    }
   ],
   "source": [
    "networkx.__version__"
   ]
  },
  {
   "cell_type": "code",
   "execution_count": null,
   "metadata": {},
   "outputs": [],
   "source": []
  }
 ],
 "metadata": {
  "kernelspec": {
   "display_name": "Python 3 (ipykernel)",
   "language": "python",
   "name": "python3"
  },
  "language_info": {
   "codemirror_mode": {
    "name": "ipython",
    "version": 3
   },
   "file_extension": ".py",
   "mimetype": "text/x-python",
   "name": "python",
   "nbconvert_exporter": "python",
   "pygments_lexer": "ipython3",
   "version": "3.9.12"
  }
 },
 "nbformat": 4,
 "nbformat_minor": 2
}
